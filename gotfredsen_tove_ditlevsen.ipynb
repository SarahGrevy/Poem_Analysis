{
 "cells": [
  {
   "cell_type": "markdown",
   "metadata": {},
   "source": [
    "## homework 4.1: investigating lists and dictionaries using functions\n",
    "\n",
    "For this assignment, I analysed five poems by Danish poet, Tove Ditlevsen. In each cell I have made a variable that contains each poem, and then I pass that poem through a function called `text_to_dict` that makes a dictionary for each poem. The dictionary contains the title of the poem, the full text as one string, and a list that contains each line of the poem. The function will also make lists of sentences instead of lines if you want to investigate a prose text (sentence by sentence) instead of a poem (line by line)"
   ]
  },
  {
   "cell_type": "code",
   "execution_count": 18,
   "metadata": {},
   "outputs": [],
   "source": [
    "#Run this cell toImport regular expressions\n",
    "#And to initialize the all texts list that will contain all of your dictionaries of text\n",
    "import re\n",
    "all_texts = []"
   ]
  },
  {
   "cell_type": "markdown",
   "metadata": {},
   "source": [
    "** understanding the text_to_dict function**\n",
    "\n",
    "parameters:\n",
    "* `title` is a string you need to write inside function's parameters\n",
    "* `text` is the variable that holds the entire text\n",
    "* `poem` True/False parameter --if it is true it will split your text by line (`\\n`) \n",
    " \tIf it is false it will split your text by sentence ('[.?!])\n",
    "\n",
    "If you look at the function you will see that it builds a dictionary with the following fields:\n",
    "* `title` is the title of the text\n",
    "* `text_as_string` is the full text as a string\n",
    "* `lines` is a list of lines or sentences\n",
    "\n",
    "It returns a dictionary with those fields."
   ]
  },
  {
   "cell_type": "code",
   "execution_count": 19,
   "metadata": {},
   "outputs": [],
   "source": [
    "def text_to_dict(title,text,poem):\n",
    "    dict_of_this_text = {}\n",
    "    dict_of_this_text['title'] = title\n",
    "    dict_of_this_text['text_as_string'] = text\n",
    "    if poem:\n",
    "        text_to_list = text.strip().split('\\n')\n",
    "    else:\n",
    "        text_to_list = re.split(r\"[.?!]\",text)\n",
    "    dict_of_this_text['lines'] = text_to_list\n",
    "    return dict_of_this_text\n"
   ]
  },
  {
   "cell_type": "code",
   "execution_count": null,
   "metadata": {},
   "outputs": [],
   "source": [
    "#please note: the regular expression I am using to split by sentences\n",
    "#is highly flawed, it is borderline impossible to write a regular expression \n",
    "#that splits 100% perfectly by sentence, but feel free to use this."
   ]
  },
  {
   "cell_type": "markdown",
   "metadata": {},
   "source": [
    "## Part One\n",
    "\n",
    "The next five cells are exactly the same. They define five different texts, and then they pass each text through the `text_to_dict` function. And then they add the resulting dictionary to the all_texts list. \n",
    "\n",
    "In the five cells below enter your five selected texts.\n",
    "\n",
    "**You should do no coding at any point** until the very last cell before part two."
   ]
  },
  {
   "cell_type": "code",
   "execution_count": 20,
   "metadata": {},
   "outputs": [],
   "source": [
    "#To change the text, just put a new text between the quotation mark\n",
    "text0 = '''\n",
    "Så tag mit hjerte i dine hænder\n",
    "men tag det varsomt og tag det blidt\n",
    "det røde hjerte – nu er det dit.\n",
    "Det slår så roligt, det slår så dæmpet\n",
    "for det har elsket og det har lidt\n",
    "nu er det stille – nu er det dit.\n",
    "'''\n",
    "#Remember: you need to type the title into the first parameter\n",
    "#place the variable containing the text into the second paramater\n",
    "#If you want to split by line choose True for the third parameter\n",
    "#If you want to split by sentence, choose False\n",
    "transform_it = text_to_dict(\"Så tag mit hjerte i dine hænder\",text0,True)\n",
    "all_texts.append(transform_it)"
   ]
  },
  {
   "cell_type": "code",
   "execution_count": 14,
   "metadata": {},
   "outputs": [
    {
     "data": {
      "text/plain": [
       "[{'title': 'Så tag mit hjerte i dine hænder',\n",
       "  'text_as_string': '\\nSå tag mit hjerte i dine hænder\\nmen tag det varsomt og tag det blidt\\ndet røde hjerte – nu er det dit.\\nDet slår så roligt, det slår så dæmpet\\nfor det har elsket og det har lidt\\nnu er det stille – nu er det dit.\\n',\n",
       "  'lines': ['Så tag mit hjerte i dine hænder',\n",
       "   'men tag det varsomt og tag det blidt',\n",
       "   'det røde hjerte – nu er det dit.',\n",
       "   'Det slår så roligt, det slår så dæmpet',\n",
       "   'for det har elsket og det har lidt',\n",
       "   'nu er det stille – nu er det dit.']}]"
      ]
     },
     "execution_count": 14,
     "metadata": {},
     "output_type": "execute_result"
    }
   ],
   "source": [
    "all_texts"
   ]
  },
  {
   "cell_type": "code",
   "execution_count": 21,
   "metadata": {},
   "outputs": [],
   "source": [
    "text1 = '''\n",
    "Når jeg er død, og al verdens lys\n",
    "går bort i et stjernespor,\n",
    "skal I lægge mig et sted på en mark\n",
    "i den brune våde jord.\n",
    "Ingen kiste skal lukke sit dræbende låg\n",
    "over det der engang var mig,\n",
    "jeg vil lytte til fodtrin der kommer og går\n",
    "på den nære, urolige vej.\n",
    "'''\n",
    "transform_it = text_to_dict(\"Når jeg er død\",text1,True)\n",
    "all_texts.append(transform_it)"
   ]
  },
  {
   "cell_type": "code",
   "execution_count": 22,
   "metadata": {},
   "outputs": [],
   "source": [
    "text2 = '''\n",
    "Når de kommer med den hvide kiste,\n",
    "skal du ikke være bange, mor går med dig,\n",
    "i din lille silkekjorte skal jeg klæde\n",
    "dig for første gang – og allersidste.\n",
    "'''\n",
    "transform_it = text_to_dict(\"Til mit døde barn\",text2,True)\n",
    "all_texts.append(transform_it)"
   ]
  },
  {
   "cell_type": "code",
   "execution_count": 17,
   "metadata": {},
   "outputs": [
    {
     "ename": "IndexError",
     "evalue": "list index out of range",
     "output_type": "error",
     "traceback": [
      "\u001b[0;31m---------------------------------------------------------------------------\u001b[0m",
      "\u001b[0;31mIndexError\u001b[0m                                Traceback (most recent call last)",
      "\u001b[0;32m/var/folders/th/rs4zk3q55y3dxsm259ph3h3w0000gn/T/ipykernel_44334/3105041287.py\u001b[0m in \u001b[0;36m<module>\u001b[0;34m\u001b[0m\n\u001b[1;32m      1\u001b[0m \u001b[0;31m#this will display the 5 line in the 3rd text.\u001b[0m\u001b[0;34m\u001b[0m\u001b[0;34m\u001b[0m\u001b[0;34m\u001b[0m\u001b[0m\n\u001b[0;32m----> 2\u001b[0;31m \u001b[0mall_texts\u001b[0m\u001b[0;34m[\u001b[0m\u001b[0;36m2\u001b[0m\u001b[0;34m]\u001b[0m\u001b[0;34m[\u001b[0m\u001b[0;34m'lines'\u001b[0m\u001b[0;34m]\u001b[0m\u001b[0;34m[\u001b[0m\u001b[0;36m3\u001b[0m\u001b[0;34m]\u001b[0m\u001b[0;34m\u001b[0m\u001b[0;34m\u001b[0m\u001b[0m\n\u001b[0m",
      "\u001b[0;31mIndexError\u001b[0m: list index out of range"
     ]
    }
   ],
   "source": [
    "#this will display the 5 line in the 3rd text.\n",
    "all_texts[2]['lines'][3]"
   ]
  },
  {
   "cell_type": "code",
   "execution_count": 23,
   "metadata": {},
   "outputs": [],
   "source": [
    "text3 = '''\n",
    "Jeg har hvilet ved dit hjerte, og nu slår det ikke mere.\n",
    "Jeg har kysset dine læber, de er kolde nu og hvide,\n",
    "og de hænder, der har kendt så mange kærtegn, ligger stille,\n",
    "aldrig mere skal de legende igennem håret glide.\n",
    "\n",
    "Aldrig mere skal jeg se dig sove sundt og trække vejret,\n",
    "aldrig mere skal jeg vække dig med pusten i dit øre,\n",
    "for at se dig halvt i søvne række ud mod vækkeuret,\n",
    "som du aldrig nogensinde var den første til at høre.\n",
    "'''\n",
    "transform_it = text_to_dict(\"Jeg har hvilet ved dit hjerte\",text3,True)\n",
    "all_texts.append(transform_it)"
   ]
  },
  {
   "cell_type": "code",
   "execution_count": 24,
   "metadata": {},
   "outputs": [],
   "source": [
    "text4 = '''\n",
    "Der er to mænd i verden,\n",
    "der bestandig krydser min vej,\n",
    "den ene er ham jeg elsker,\n",
    "den anden elsker mig\n",
    "'''\n",
    "transform_it = text_to_dict(\"De evige tre\",text4,True)\n",
    "all_texts.append(transform_it)"
   ]
  },
  {
   "cell_type": "markdown",
   "metadata": {},
   "source": [
    "Run the two cells below to confirm that first, you only have five texts in the all_texts list, and next, look at the all_texts list to see the dictionary inside it. "
   ]
  },
  {
   "cell_type": "code",
   "execution_count": 25,
   "metadata": {},
   "outputs": [
    {
     "data": {
      "text/plain": [
       "5"
      ]
     },
     "execution_count": 25,
     "metadata": {},
     "output_type": "execute_result"
    }
   ],
   "source": [
    "len(all_texts)"
   ]
  },
  {
   "cell_type": "code",
   "execution_count": 26,
   "metadata": {},
   "outputs": [
    {
     "data": {
      "text/plain": [
       "[{'title': 'Så tag mit hjerte i dine hænder',\n",
       "  'text_as_string': '\\nSå tag mit hjerte i dine hænder\\nmen tag det varsomt og tag det blidt\\ndet røde hjerte – nu er det dit.\\nDet slår så roligt, det slår så dæmpet\\nfor det har elsket og det har lidt\\nnu er det stille – nu er det dit.\\n',\n",
       "  'lines': ['Så tag mit hjerte i dine hænder',\n",
       "   'men tag det varsomt og tag det blidt',\n",
       "   'det røde hjerte – nu er det dit.',\n",
       "   'Det slår så roligt, det slår så dæmpet',\n",
       "   'for det har elsket og det har lidt',\n",
       "   'nu er det stille – nu er det dit.']},\n",
       " {'title': 'Når jeg er død',\n",
       "  'text_as_string': '\\nNår jeg er død, og al verdens lys\\ngår bort i et stjernespor,\\nskal I lægge mig et sted på en mark\\ni den brune våde jord.\\nIngen kiste skal lukke sit dræbende låg\\nover det der engang var mig,\\njeg vil lytte til fodtrin der kommer og går\\npå den nære, urolige vej.\\n',\n",
       "  'lines': ['Når jeg er død, og al verdens lys',\n",
       "   'går bort i et stjernespor,',\n",
       "   'skal I lægge mig et sted på en mark',\n",
       "   'i den brune våde jord.',\n",
       "   'Ingen kiste skal lukke sit dræbende låg',\n",
       "   'over det der engang var mig,',\n",
       "   'jeg vil lytte til fodtrin der kommer og går',\n",
       "   'på den nære, urolige vej.']},\n",
       " {'title': 'Til mit døde barn',\n",
       "  'text_as_string': '\\nNår de kommer med den hvide kiste,\\nskal du ikke være bange, mor går med dig,\\ni din lille silkekjorte skal jeg klæde\\ndig for første gang – og allersidste.\\n',\n",
       "  'lines': ['Når de kommer med den hvide kiste,',\n",
       "   'skal du ikke være bange, mor går med dig,',\n",
       "   'i din lille silkekjorte skal jeg klæde',\n",
       "   'dig for første gang – og allersidste.']},\n",
       " {'title': 'Jeg har hvilet ved dit hjerte',\n",
       "  'text_as_string': '\\nJeg har hvilet ved dit hjerte, og nu slår det ikke mere.\\nJeg har kysset dine læber, de er kolde nu og hvide,\\nog de hænder, der har kendt så mange kærtegn, ligger stille,\\naldrig mere skal de legende igennem håret glide.\\n\\nAldrig mere skal jeg se dig sove sundt og trække vejret,\\naldrig mere skal jeg vække dig med pusten i dit øre,\\nfor at se dig halvt i søvne række ud mod vækkeuret,\\nsom du aldrig nogensinde var den første til at høre.\\n',\n",
       "  'lines': ['Jeg har hvilet ved dit hjerte, og nu slår det ikke mere.',\n",
       "   'Jeg har kysset dine læber, de er kolde nu og hvide,',\n",
       "   'og de hænder, der har kendt så mange kærtegn, ligger stille,',\n",
       "   'aldrig mere skal de legende igennem håret glide.',\n",
       "   '',\n",
       "   'Aldrig mere skal jeg se dig sove sundt og trække vejret,',\n",
       "   'aldrig mere skal jeg vække dig med pusten i dit øre,',\n",
       "   'for at se dig halvt i søvne række ud mod vækkeuret,',\n",
       "   'som du aldrig nogensinde var den første til at høre.']},\n",
       " {'title': 'De evige tre',\n",
       "  'text_as_string': '\\nDer er to mænd i verden,\\nder bestandig krydser min vej,\\nden ene er ham jeg elsker,\\nden anden elsker mig\\n',\n",
       "  'lines': ['Der er to mænd i verden,',\n",
       "   'der bestandig krydser min vej,',\n",
       "   'den ene er ham jeg elsker,',\n",
       "   'den anden elsker mig']}]"
      ]
     },
     "execution_count": 26,
     "metadata": {},
     "output_type": "execute_result"
    }
   ],
   "source": [
    "all_texts"
   ]
  },
  {
   "cell_type": "markdown",
   "metadata": {},
   "source": [
    "In the cell below, loop through all_texts and print out the title of each text. (This is the only code you need to write for Part One.)"
   ]
  },
  {
   "cell_type": "code",
   "execution_count": 27,
   "metadata": {},
   "outputs": [
    {
     "name": "stdout",
     "output_type": "stream",
     "text": [
      "Så tag mit hjerte i dine hænder\n",
      "Når jeg er død\n",
      "Til mit døde barn\n",
      "Jeg har hvilet ved dit hjerte\n",
      "De evige tre\n"
     ]
    }
   ],
   "source": [
    "###Write your code here\n",
    "for poem in all_texts:\n",
    "    print(poem['title'])"
   ]
  },
  {
   "cell_type": "markdown",
   "metadata": {},
   "source": [
    "## Part Two:  searching within lists and dictionaries\n",
    "In this part, we will be searching through each text and printing out a desired result. The searches, including loops and printing should all be defined in the function. The second cell should just have a function call that executes the function. I have written an example function and call for the first search. For each function that you write you should copy the function from the previous question and modify it so what does what I ask for.\n",
    "\n",
    "For the first six functions, there are no parameters passed to the functions--the calls will just execute the function. Go step-by-step and take your time."
   ]
  },
  {
   "cell_type": "code",
   "execution_count": 28,
   "metadata": {},
   "outputs": [],
   "source": [
    "def get_lengths():\n",
    "    for text in all_texts:\n",
    "        print(text['title'])\n",
    "        print(len(text['text_as_string']))\n",
    "        print(\"------------\")"
   ]
  },
  {
   "cell_type": "code",
   "execution_count": 29,
   "metadata": {},
   "outputs": [
    {
     "name": "stdout",
     "output_type": "stream",
     "text": [
      "Så tag mit hjerte i dine hænder\n",
      "211\n",
      "------------\n",
      "Når jeg er død\n",
      "260\n",
      "------------\n",
      "Til mit døde barn\n",
      "155\n",
      "------------\n",
      "Jeg har hvilet ved dit hjerte\n",
      "436\n",
      "------------\n",
      "De evige tre\n",
      "105\n",
      "------------\n"
     ]
    }
   ],
   "source": [
    "get_lengths()"
   ]
  },
  {
   "cell_type": "markdown",
   "metadata": {},
   "source": [
    "Question 1\n",
    "Now write a function that gets the **line count for each poem** (or sentence count for each piece of prose). This function is going to be very similar to the last one. Instead of accessing the whole text via text['text_as_string'] which is a string, you need to access the list of lines/sentences and get the length of that list. Everything else should be the same."
   ]
  },
  {
   "cell_type": "code",
   "execution_count": 30,
   "metadata": {},
   "outputs": [],
   "source": [
    "#Write your function here, name it get_line_count()\n",
    "def get_line_count():\n",
    "    for text in all_texts:\n",
    "        print(text['title'])\n",
    "        print(len(text['lines']))\n",
    "        print(\"------------\")"
   ]
  },
  {
   "cell_type": "code",
   "execution_count": 31,
   "metadata": {},
   "outputs": [
    {
     "name": "stdout",
     "output_type": "stream",
     "text": [
      "Så tag mit hjerte i dine hænder\n",
      "6\n",
      "------------\n",
      "Når jeg er død\n",
      "8\n",
      "------------\n",
      "Til mit døde barn\n",
      "4\n",
      "------------\n",
      "Jeg har hvilet ved dit hjerte\n",
      "9\n",
      "------------\n",
      "De evige tre\n",
      "4\n",
      "------------\n"
     ]
    }
   ],
   "source": [
    "get_line_count()"
   ]
  },
  {
   "cell_type": "markdown",
   "metadata": {},
   "source": [
    "Question 2\n",
    "Now write a function that prints out **one random line or sentence from each text**. Again, this function will look much the same as the last ones, but instead of getting numbers you need to get actual lines. I have included the necessary import and an example of how to get random integers. Basically, for each text you need to get one element from the list of lines/ sentences with a random number between 0 and the length of the list."
   ]
  },
  {
   "cell_type": "code",
   "execution_count": 59,
   "metadata": {},
   "outputs": [],
   "source": [
    "\n",
    "from random import randint\n",
    "#Write your function here name it show_random_lines()\n",
    "def show_random_lines():\n",
    "    for text in all_texts:\n",
    "        nr_lines = len(text['lines']) - 1 \n",
    "        #print(nr_lines)\n",
    "        random_num = randint(0, nr_lines)\n",
    "        print(text['lines'][random_num])\n",
    "#This should be inside the inner loop \n",
    "#so you get a fresh random number for each text\n",
    "#And it should not be from 0 to 9, but 0 to what?\n",
    "#Keep in mind that the range (0,9) give you any number \n",
    "#from 0 to 9 including both 0 and 9.\n"
   ]
  },
  {
   "cell_type": "code",
   "execution_count": 60,
   "metadata": {},
   "outputs": [
    {
     "name": "stdout",
     "output_type": "stream",
     "text": [
      "5\n",
      "nu er det stille – nu er det dit.\n",
      "7\n",
      "skal I lægge mig et sted på en mark\n",
      "3\n",
      "Når de kommer med den hvide kiste,\n",
      "8\n",
      "Jeg har kysset dine læber, de er kolde nu og hvide,\n",
      "3\n",
      "Der er to mænd i verden,\n"
     ]
    }
   ],
   "source": [
    "show_random_lines()"
   ]
  },
  {
   "cell_type": "markdown",
   "metadata": {},
   "source": [
    "Question 3\n",
    "This is a little bit different--instead of printing out something from each text, please **print the entire text of the longest text**. Remember in the first function, I printed out the length of each text. Well, you need to test for the longest text as you loop through and when you're done looping through, print out the one that is longest.\n",
    "\n",
    "**Major hints!**: To do this you will need two **tracking variables** set before the loop runs: A numerical one that tracks the longest length (the number), and string variable remembers the actual text that has that length.\n",
    "\n",
    "Like this: longest_length = 0 and longest_text = \"\"\n",
    "\n",
    "When you loop through, you need to test if each text was longer than the last one, and if it is longer--you update longest_length and longest_text to reflect the highest length, and the actual text. When the loop is over you then print out that longest_text string."
   ]
  },
  {
   "cell_type": "code",
   "execution_count": 368,
   "metadata": {},
   "outputs": [],
   "source": [
    "#Write your function here, name it longest_text()\n",
    "length_all_texts = [0] \n",
    "longest_str_text = []\n",
    "\n",
    "def longest_text():\n",
    "    for text in all_texts:\n",
    "        length_this_text = length_all_texts.append(len(text['lines']))\n",
    "        str_this_text = longest_str_text.append(text['lines'])\n",
    "        max_length = max(length_all_texts)\n",
    "        if len(text['lines']) >=  max(length_all_texts):\n",
    "            print(text['lines'])\n",
    "            print(text['title'])\n",
    "\n",
    "\n",
    "\n",
    "            \n",
    "        \n"
   ]
  },
  {
   "cell_type": "code",
   "execution_count": 369,
   "metadata": {},
   "outputs": [
    {
     "name": "stdout",
     "output_type": "stream",
     "text": [
      "['Så tag mit hjerte i dine hænder', 'men tag det varsomt og tag det blidt', 'det røde hjerte – nu er det dit.', 'Det slår så roligt, det slår så dæmpet', 'for det har elsket og det har lidt', 'nu er det stille – nu er det dit.']\n",
      "Så tag mit hjerte i dine hænder\n",
      "['Når jeg er død, og al verdens lys', 'går bort i et stjernespor,', 'skal I lægge mig et sted på en mark', 'i den brune våde jord.', 'Ingen kiste skal lukke sit dræbende låg', 'over det der engang var mig,', 'jeg vil lytte til fodtrin der kommer og går', 'på den nære, urolige vej.']\n",
      "Når jeg er død\n",
      "['Jeg har hvilet ved dit hjerte, og nu slår det ikke mere.', 'Jeg har kysset dine læber, de er kolde nu og hvide,', 'og de hænder, der har kendt så mange kærtegn, ligger stille,', 'aldrig mere skal de legende igennem håret glide.', '', 'Aldrig mere skal jeg se dig sove sundt og trække vejret,', 'aldrig mere skal jeg vække dig med pusten i dit øre,', 'for at se dig halvt i søvne række ud mod vækkeuret,', 'som du aldrig nogensinde var den første til at høre.']\n",
      "Jeg har hvilet ved dit hjerte\n"
     ]
    }
   ],
   "source": [
    "longest_text()"
   ]
  },
  {
   "cell_type": "markdown",
   "metadata": {},
   "source": [
    "Question 4\n",
    "This is kind of a combination of the first two functions--write a function that gets the **average line/sentence length for each text**."
   ]
  },
  {
   "cell_type": "code",
   "execution_count": 260,
   "metadata": {},
   "outputs": [],
   "source": [
    "#Write your function here\n",
    "def average_line_length():\n",
    "    for text in all_texts:\n",
    "        line_length_dic = []\n",
    "        for line in text['lines']:\n",
    "            line_length_dic.append(len(line))\n",
    "        avg = sum(line_length_dic) / len(line_length_dic)\n",
    "        print(round(avg))\n",
    "        print(\"...\")\n"
   ]
  },
  {
   "cell_type": "code",
   "execution_count": 261,
   "metadata": {},
   "outputs": [
    {
     "name": "stdout",
     "output_type": "stream",
     "text": [
      "34\n",
      "...\n",
      "31\n",
      "...\n",
      "38\n",
      "...\n",
      "47\n",
      "...\n",
      "25\n",
      "...\n"
     ]
    }
   ],
   "source": [
    "average_line_length() "
   ]
  },
  {
   "cell_type": "markdown",
   "metadata": {},
   "source": [
    "Question 5\n",
    "**Print the longest line/sentence in each text**. \n",
    "This is similar to question 3--but your two tracking variables (longest_length and longest_line) need to be placed right before the inside loop--and then you print the lines each time the inside loop ends."
   ]
  },
  {
   "cell_type": "code",
   "execution_count": 401,
   "metadata": {},
   "outputs": [],
   "source": [
    "#Write your function here\n",
    "\n",
    "#Write your function here, name it longest_text()\n",
    "\n",
    "\n",
    "def longest_line_in_each():\n",
    "    for text in all_texts:\n",
    "        all_lines = []\n",
    "        longest_str_text = []\n",
    "        for line in text['lines']:\n",
    "            all_lines.append(len(line))\n",
    "            longest_str_text.append(line)\n",
    "        max_length = max(all_lines)\n",
    "        print(max(longest_str_text))\n",
    "        #print(max_length)\n",
    "        print(\"---\")\n",
    "        \n",
    "\n"
   ]
  },
  {
   "cell_type": "code",
   "execution_count": 402,
   "metadata": {},
   "outputs": [
    {
     "name": "stdout",
     "output_type": "stream",
     "text": [
      "nu er det stille – nu er det dit.\n",
      "---\n",
      "skal I lægge mig et sted på en mark\n",
      "---\n",
      "skal du ikke være bange, mor går med dig,\n",
      "---\n",
      "som du aldrig nogensinde var den første til at høre.\n",
      "---\n",
      "der bestandig krydser min vej,\n",
      "---\n"
     ]
    }
   ],
   "source": [
    "longest_line_in_each()\n"
   ]
  },
  {
   "cell_type": "markdown",
   "metadata": {},
   "source": [
    "Question 6\n",
    "**Print the shortest single line/sentence out of all of the texts that is greater than zero**\n",
    "This is the tricky-ish: You need to place the tracking variables outside the loop (like question 4, but the loop through all of the lines, test for the shortest one (that is greater than 0)."
   ]
  },
  {
   "cell_type": "code",
   "execution_count": 423,
   "metadata": {},
   "outputs": [],
   "source": [
    "#Write your function here\n",
    "\n",
    "def shortest_of_all_lines():\n",
    "    for text in all_texts:\n",
    "        all_lines = []\n",
    "        min_str_text = []\n",
    "        for line in text['lines']:\n",
    "            if len(line) > 0:\n",
    "                all_lines.append(len(line))\n",
    "                min_str_text.append(line)\n",
    "        min_length = min(all_lines) \n",
    "        print(min(min_str_text))\n",
    "        print(min_length)\n",
    "        print(\"---\")\n",
    "        "
   ]
  },
  {
   "cell_type": "code",
   "execution_count": 424,
   "metadata": {},
   "outputs": [
    {
     "name": "stdout",
     "output_type": "stream",
     "text": [
      "Det slår så roligt, det slår så dæmpet\n",
      "31\n",
      "---\n",
      "Ingen kiste skal lukke sit dræbende låg\n",
      "22\n",
      "---\n",
      "Når de kommer med den hvide kiste,\n",
      "34\n",
      "---\n",
      "Aldrig mere skal jeg se dig sove sundt og trække vejret,\n",
      "48\n",
      "---\n",
      "Der er to mænd i verden,\n",
      "20\n",
      "---\n"
     ]
    }
   ],
   "source": [
    " shortest_of_all_lines()"
   ]
  },
  {
   "cell_type": "markdown",
   "metadata": {},
   "source": [
    "## searching with regular expressions\n",
    "In the functions below you will search all the texts using regular expressions. The first few of these functions should not be too challenging--you just need to adjust the regular expression inside the function. At points it gets a little more complex as you have to control the looping through the lists and dictionaries."
   ]
  },
  {
   "cell_type": "code",
   "execution_count": 425,
   "metadata": {},
   "outputs": [],
   "source": [
    "def get_this_word(word):\n",
    "    my_regex = r\"\\b\" + word + r\"\\b\"\n",
    "    for text in all_texts:\n",
    "        result = [line for line in text['lines'] if re.search(my_regex, line, re.IGNORECASE)]\n",
    "        if len(result) > 0:\n",
    "            print(text['title'])\n",
    "            [print(line) for line in result]\n",
    "            print(\"------------\")\n",
    "            "
   ]
  },
  {
   "cell_type": "code",
   "execution_count": 429,
   "metadata": {},
   "outputs": [
    {
     "name": "stdout",
     "output_type": "stream",
     "text": [
      "Så tag mit hjerte i dine hænder\n",
      "men tag det varsomt og tag det blidt\n",
      "for det har elsket og det har lidt\n",
      "------------\n",
      "Når jeg er død\n",
      "Når jeg er død, og al verdens lys\n",
      "jeg vil lytte til fodtrin der kommer og går\n",
      "------------\n",
      "Til mit døde barn\n",
      "dig for første gang – og allersidste.\n",
      "------------\n",
      "Jeg har hvilet ved dit hjerte\n",
      "Jeg har hvilet ved dit hjerte, og nu slår det ikke mere.\n",
      "Jeg har kysset dine læber, de er kolde nu og hvide,\n",
      "og de hænder, der har kendt så mange kærtegn, ligger stille,\n",
      "Aldrig mere skal jeg se dig sove sundt og trække vejret,\n",
      "------------\n"
     ]
    }
   ],
   "source": [
    "get_this_word('og')"
   ]
  },
  {
   "cell_type": "markdown",
   "metadata": {},
   "source": [
    "Question 7\n",
    "Print out the lines that **start** with the word entered.  You just need copy the function above and then adjust the regular expression a bit."
   ]
  },
  {
   "cell_type": "code",
   "execution_count": 476,
   "metadata": {},
   "outputs": [],
   "source": [
    "#Write your function here\n",
    "\n",
    "def line_starts_with(word):\n",
    "    my_regex = r\"^\\b\" + word + r\"\\b\"\n",
    "    for text in all_texts:\n",
    "        result = [line for line in text['lines'] if re.search(my_regex, line, re.IGNORECASE)]\n",
    "        if len(result) > 0:\n",
    "            print(text['title'])\n",
    "            [print(line) for line in result]\n",
    "            print(\"------------\")\n",
    "            "
   ]
  },
  {
   "cell_type": "code",
   "execution_count": 477,
   "metadata": {},
   "outputs": [
    {
     "name": "stdout",
     "output_type": "stream",
     "text": [
      "Når jeg er død\n",
      "jeg vil lytte til fodtrin der kommer og går\n",
      "------------\n",
      "Jeg har hvilet ved dit hjerte\n",
      "Jeg har hvilet ved dit hjerte, og nu slår det ikke mere.\n",
      "Jeg har kysset dine læber, de er kolde nu og hvide,\n",
      "------------\n"
     ]
    }
   ],
   "source": [
    "line_starts_with('jeg')"
   ]
  },
  {
   "cell_type": "markdown",
   "metadata": {},
   "source": [
    "Question 8\n",
    "Print out the lines that **end** with the word entered.  Again you just need to adjust the regular expression here."
   ]
  },
  {
   "cell_type": "code",
   "execution_count": 533,
   "metadata": {},
   "outputs": [],
   "source": [
    "#Write your function here\n",
    "\n",
    "def line_ends_with(word):\n",
    "    my_regex = r\"\\b\" + word + r\"\\b$\"\n",
    "    for text in all_texts:\n",
    "        result = [line for line in text['lines'] if re.search(my_regex, line, re.IGNORECASE)]\n",
    "        if len(result) > 0:\n",
    "            print(text['title'])\n",
    "            [print(line) for line in result]\n",
    "            print(\"------------\")"
   ]
  },
  {
   "cell_type": "code",
   "execution_count": 531,
   "metadata": {},
   "outputs": [],
   "source": [
    "line_ends_with('hjerte')"
   ]
  },
  {
   "cell_type": "markdown",
   "metadata": {},
   "source": [
    "Question 9\n",
    "Print out **how many times the word was found in each text.** In this case, instead of the list comprehension, you want to run a re.findall() on the string of the text (not the list) and then count the number of elements in the list of results.\n",
    "\n",
    "Hint: use the original function at the beginning of this section, and make the proper adjustments to the variable \"result\""
   ]
  },
  {
   "cell_type": "code",
   "execution_count": 543,
   "metadata": {},
   "outputs": [],
   "source": [
    "#Write your function here\n"
   ]
  },
  {
   "cell_type": "code",
   "execution_count": 540,
   "metadata": {},
   "outputs": [
    {
     "name": "stdout",
     "output_type": "stream",
     "text": [
      "Når jeg er død\n",
      "Når jeg er død, og al verdens lys\n",
      "jeg vil lytte til fodtrin der kommer og går\n",
      "------------\n",
      "Til mit døde barn\n",
      "i din lille silkekjorte skal jeg klæde\n",
      "------------\n",
      "Jeg har hvilet ved dit hjerte\n",
      "Jeg har hvilet ved dit hjerte, og nu slår det ikke mere.\n",
      "Jeg har kysset dine læber, de er kolde nu og hvide,\n",
      "Aldrig mere skal jeg se dig sove sundt og trække vejret,\n",
      "aldrig mere skal jeg vække dig med pusten i dit øre,\n",
      "------------\n",
      "De evige tre\n",
      "den ene er ham jeg elsker,\n",
      "------------\n"
     ]
    }
   ],
   "source": [
    "how_many_times('The')"
   ]
  },
  {
   "cell_type": "markdown",
   "metadata": {},
   "source": [
    "Question 10\n",
    "Print out **the text that has the highest occurrence of the word** you searched for. This is similar to the last function, but here you need tracking variables like you had in Question 3.\n"
   ]
  },
  {
   "cell_type": "code",
   "execution_count": null,
   "metadata": {},
   "outputs": [],
   "source": [
    "#Write your function here"
   ]
  },
  {
   "cell_type": "code",
   "execution_count": null,
   "metadata": {},
   "outputs": [],
   "source": [
    "text_with_most_occurance_of('word')"
   ]
  },
  {
   "cell_type": "markdown",
   "metadata": {},
   "source": [
    "Question 11\n",
    "Print out **lines containing words of the length asked**. We are sort of back to basics here, you just need to modify the regular expression of the first function (get_this_word(word)) so that it can take a number parameter for the length of characters in a word."
   ]
  },
  {
   "cell_type": "code",
   "execution_count": null,
   "metadata": {},
   "outputs": [],
   "source": [
    "#Write your function here"
   ]
  },
  {
   "cell_type": "code",
   "execution_count": null,
   "metadata": {},
   "outputs": [],
   "source": [
    "lines_with_words_this_length('10')"
   ]
  },
  {
   "cell_type": "markdown",
   "metadata": {
    "collapsed": true
   },
   "source": [
    "**Final question:** in this cell, describe two functions that you would like to write, not ones that you're able to write, but ones you think would be useful or interesting or fun, or might bring greater insight into a corpus of text. If you feel like trying to write it, go-ahead!"
   ]
  },
  {
   "cell_type": "code",
   "execution_count": null,
   "metadata": {},
   "outputs": [],
   "source": []
  },
  {
   "cell_type": "markdown",
   "metadata": {
    "collapsed": true
   },
   "source": [
    "**Bonus question:** Write a function that counts word frequency: that is, it returns a dictionary with each unique word and its count, sorted by the most frequent. Note, this is highly stack-overflowable -- Python has some built in ways of doing this. If you're doing this, you might as well try to do it on your own. But it's up to you!"
   ]
  },
  {
   "cell_type": "code",
   "execution_count": null,
   "metadata": {},
   "outputs": [],
   "source": []
  }
 ],
 "metadata": {
  "kernelspec": {
   "display_name": "Python 3 (ipykernel)",
   "language": "python",
   "name": "python3"
  },
  "language_info": {
   "codemirror_mode": {
    "name": "ipython",
    "version": 3
   },
   "file_extension": ".py",
   "mimetype": "text/x-python",
   "name": "python",
   "nbconvert_exporter": "python",
   "pygments_lexer": "ipython3",
   "version": "3.9.6"
  }
 },
 "nbformat": 4,
 "nbformat_minor": 2
}
